{
 "cells": [
  {
   "cell_type": "code",
   "execution_count": 31,
   "id": "d6c66aa8",
   "metadata": {},
   "outputs": [],
   "source": [
    "import pandas as pd\n",
    "import statistics\n",
    "from sklearn import preprocessing\n",
    "import math\n",
    "import numpy as np\n",
    "import matplotlib.pyplot as plt\n",
    "from sklearn.model_selection import StratifiedKFold\n",
    "from sklearn.linear_model import LogisticRegression\n",
    "from sklearn.ensemble import ExtraTreesClassifier\n",
    "\n",
    "from numpy import mean\n",
    "from numpy import std\n",
    "from sklearn.metrics import  confusion_matrix\n",
    "from imblearn.over_sampling import SMOTE\n",
    "from sklearn.svm import LinearSVC\n",
    "from sklearn.feature_selection import SelectFromModel"
   ]
  },
  {
   "cell_type": "code",
   "execution_count": 32,
   "id": "bdb7cd19",
   "metadata": {},
   "outputs": [],
   "source": [
    "\n",
    "\n",
    "#Function to transpose genomic matrice, df.T can also be employed but computionally heavy for my personal laptop\n",
    "def transpose_ (df_gene_full__FINAL_):\n",
    "    id_gene = df_gene_full__FINAL_.columns\n",
    "    id_gene_list = list(id_gene)\n",
    "\n",
    "    Transpose_Gene = []\n",
    "    for i_transpose in id_gene_list :\n",
    "        b_column = df_gene_full__FINAL_[i_transpose]\n",
    "        b_row = np.array(b_column)\n",
    "        Transpose_Gene.append(b_row)\n",
    "    return Transpose_Gene\n"
   ]
  },
  {
   "cell_type": "code",
   "execution_count": 33,
   "id": "e7bab017",
   "metadata": {},
   "outputs": [],
   "source": [
    "\n",
    "#function to detele last letter of patients name in genomic set to compare both set\n",
    "def new_colum ():\n",
    "    list_without_A = []\n",
    "    df_gene_1_sorted =df_gene_1.df[sorted(df_gene_1.df.columns)]\n",
    "    for name_TCGA in (list(df_gene_1_sorted.columns)):\n",
    "        newString = name_TCGA.rstrip(name_TCGA[-1])\n",
    "        list_without_A.append(newString)\n",
    "    df_gene_1_sorted.set_axis(list_without_A, axis=1)\n",
    "    \n",
    "    return df_gene_1_sorted,list_without_A\n",
    "\n"
   ]
  },
  {
   "cell_type": "code",
   "execution_count": 34,
   "id": "678efc68",
   "metadata": {},
   "outputs": [],
   "source": [
    "#function to delete in the clinical set, patients not present in genomic set.\n",
    "# Index to drop genes, were typed manually, from an issue with the type of variable, but can be retrieved with line index_genes.\n",
    "def id_iden(list_without_A):\n",
    "    list_name_not_present = []\n",
    "    Id_TCGA__ =df_clin_['Sample ID']\n",
    "    Id_TCGA_list__ =list(Id_TCGA__)\n",
    "    list_a = []\n",
    "    for indice_TCGA in range(0,len(Id_TCGA_list__)) :\n",
    "        if Id_TCGA_list__[indice_TCGA] not in list_without_A :\n",
    "            list_a.append(Id_TCGA_list__[indice_TCGA])\n",
    "            \n",
    "          #  index_genes = df_clin_.index[Id_TCGA__ == Id_TCGA_list__[indice_TCGA]].astype(int)\n",
    "            v = df_clin_.iloc[indice_TCGA].name\n",
    "            b = v.tolist()\n",
    "    df_clin__ =  df_clin_.drop(222)\n",
    "   \n",
    "    df_clin__ =  df_clin__.drop(537)\n",
    "    df_clin__ =  df_clin__.drop(1009)\n",
    "    return df_clin__\n"
   ]
  },
  {
   "cell_type": "code",
   "execution_count": 35,
   "id": "88e456c7",
   "metadata": {},
   "outputs": [],
   "source": [
    "#Function to analyse both set and compare their siilarity, so patients are in the same order\n",
    "\n",
    "\n",
    "def size_simi (df_gene_1_,df_clin__):\n",
    "    \n",
    "    Id_TCGA =df_clin__['Sample ID'] \n",
    "    Id_TCGA_list =list(Id_TCGA)\n",
    "  \n",
    "    id_gene = df_gene_1_.columns\n",
    "    id_gene_list = list(id_gene)\n",
    "\n",
    "    df_gene_1_sorted_full =df_gene_1.df[sorted(df_gene_1.df.columns)]\n",
    "    id_gene_full = df_gene_1_sorted_full.columns\n",
    "    id_gene_full_list = list(id_gene_full)\n",
    "\n",
    "    \n",
    "\n",
    "    list_not_present_gene = []\n",
    "    list_not_present_gene_full = []\n",
    "    list__present_gene = []\n",
    "    \n",
    "    for id_gene in range (0, len(id_gene_list)):\n",
    "        if id_gene_list[id_gene] not in Id_TCGA_list:\n",
    "            \n",
    "            list_not_present_gene.append(id_gene_list[id_gene])\n",
    "            list_not_present_gene_full.append(id_gene_full_list[id_gene])         \n",
    "       \n",
    "    df_gene_1_ =  df_gene_1_.drop(columns= list_not_present_gene )\n",
    "    df_gene_full =  df_gene_1_sorted_full.drop(columns= list_not_present_gene_full )\n",
    "\n",
    "    list_double = []\n",
    "    id_gene_1 = df_gene_1_.columns\n",
    "    id_gene_list_1 = list(id_gene_1)\n",
    "    id_gene_1_full= df_gene_full.columns\n",
    "    \n",
    "    for id_TCGA in range (0, len(Id_TCGA_list )):    \n",
    "        id_drop_gene = id_TCGA\n",
    "        while Id_TCGA_list[id_TCGA]!=id_gene_list_1[id_drop_gene] :\n",
    "            name_column = df_gene_full.columns[id_drop_gene]\n",
    "            df_gene_full =df_gene_full.drop(columns = name_column)\n",
    "            id_gene_list_1.remove(id_gene_list_1[id_drop_gene])\n",
    "          \n",
    "\n",
    "    return df_clin__,df_gene_full"
   ]
  },
  {
   "cell_type": "code",
   "execution_count": 36,
   "id": "a9154e64",
   "metadata": {},
   "outputs": [],
   "source": [
    "#First attribute selection, by deleting genes with variance inbetween patients below 2, as non predictive for classification\n",
    "def  variance_clean(df_gene_final__):\n",
    "\n",
    "    list_var = []\n",
    "    df_gene_final__ = df_gene_final__.replace(to_replace=0,\n",
    "           value=0.8)\n",
    "    df_gene_final__ = np.log2(df_gene_final__)\n",
    "    df_gene_final__var = df_gene_final__.var(axis=1)\n",
    "    a = df_gene_final__var[df_gene_final__var < 2.1].dropna()\n",
    "    df_gene_final__ =  df_gene_final__.drop( labels =a.index)\n",
    "  \n",
    "    return df_gene_final__"
   ]
  },
  {
   "cell_type": "code",
   "execution_count": 37,
   "id": "be50b8a0",
   "metadata": {},
   "outputs": [],
   "source": [
    "class Read_TSV:\n",
    "     def __init__(self, name_file):\n",
    "        self.name_file = name_file\n",
    "        \n",
    "     def get_tsv(self):\n",
    "        self.df= pd.read_csv(self.name_file, sep='\\t')\n",
    "      \n",
    "\n",
    "     def get_shape(self):\n",
    "        self.row_gene, self.col_gene = self.df.shape\n",
    "       \n"
   ]
  },
  {
   "cell_type": "code",
   "execution_count": 38,
   "id": "c5ab14fe",
   "metadata": {},
   "outputs": [],
   "source": [
    "#Genomic set lecture\n",
    "df_gene_1 = Read_TSV('TCGA_BRCA_tpm.tsv')\n",
    "df_gene_1.get_tsv()\n",
    "df_gene_1.get_shape()"
   ]
  },
  {
   "cell_type": "code",
   "execution_count": 39,
   "id": "0b472946",
   "metadata": {},
   "outputs": [],
   "source": [
    "#Clinical set elcture\n",
    "df_clin = Read_TSV('brca_tcga_pan_can_atlas_2018_clinical_data_filtered.tsv')\n",
    "df_clin.get_tsv()\n",
    "df_clin.get_shape()"
   ]
  },
  {
   "cell_type": "code",
   "execution_count": 40,
   "id": "b0d017fa",
   "metadata": {},
   "outputs": [],
   "source": [
    "#Delete patients with unknown subtypes\n",
    "nan_rows = df_clin.df.isnull().any(axis=1)\n",
    "labels_nan_rows = df_clin.df[nan_rows].index\n",
    "\n",
    "df_clin_ =  df_clin.df.drop( labels =labels_nan_rows)"
   ]
  },
  {
   "cell_type": "code",
   "execution_count": 41,
   "id": "31f1f352",
   "metadata": {
    "scrolled": true
   },
   "outputs": [
    {
     "name": "stderr",
     "output_type": "stream",
     "text": [
      "c:\\users\\laura\\appdata\\local\\programs\\python\\python36\\lib\\site-packages\\ipykernel_launcher.py:8: FutureWarning: set_axis currently defaults to operating inplace.\n",
      "This will change in a future version of pandas, use inplace=True to avoid this warning.\n",
      "  \n"
     ]
    }
   ],
   "source": [
    "#\n",
    "df_gene_final,list_drop_A = new_colum ( )\n",
    "df_clin_final = id_iden(list_drop_A)\n",
    "df_clin__FINAL,df_gene_full__2 = size_simi(df_gene_final,df_clin_final)"
   ]
  },
  {
   "cell_type": "code",
   "execution_count": 42,
   "id": "8a70fe10",
   "metadata": {},
   "outputs": [],
   "source": [
    "#Feature selection to eliminate non predictive gene\n",
    "df_gene_full__FINAL = variance_clean(df_gene_full__2)"
   ]
  },
  {
   "cell_type": "code",
   "execution_count": 43,
   "id": "65dcb6cf",
   "metadata": {},
   "outputs": [],
   "source": [
    "#Matrix transposition\n",
    "df_gene_full__FINAL_transpose = transpose_ (df_gene_full__FINAL)\n",
    "df_gene_full__FINAL_transpose = pd.DataFrame(df_gene_full__FINAL_transpose)\n",
    "\n",
    "#Label column selection\n",
    "label = df_clin__FINAL['Subtype']\n",
    "a = np.array(label)"
   ]
  },
  {
   "cell_type": "code",
   "execution_count": 44,
   "id": "1f176ae8",
   "metadata": {},
   "outputs": [
    {
     "data": {
      "image/png": "[encoded data removed]",
      "text/plain": [
       "<Figure size 432x288 with 1 Axes>"
      ]
     },
     "metadata": {
      "needs_background": "light"
     },
     "output_type": "display_data"
    }
   ],
   "source": [
    "#Patients distribution\n",
    "pd.Series(a).value_counts(sort=False).plot(kind='bar')\n",
    "plt.show()\n",
    "\n",
    "\n",
    "#Option to upsample Normal and Her2 classes, as under-represented in the set\n",
    "#su = SMOTE(random_state=42)\n",
    "#X_su, y_su = su.fit_resample(df_gene_full__FINAL_transpose, label)"
   ]
  },
  {
   "cell_type": "code",
   "execution_count": 54,
   "id": "7e344422",
   "metadata": {},
   "outputs": [
    {
     "name": "stderr",
     "output_type": "stream",
     "text": [
      "c:\\users\\laura\\appdata\\local\\programs\\python\\python36\\lib\\site-packages\\sklearn\\svm\\_base.py:986: ConvergenceWarning: Liblinear failed to converge, increase the number of iterations.\n",
      "  \"the number of iterations.\", ConvergenceWarning)\n"
     ]
    }
   ],
   "source": [
    "# Feature selection to delete noice, and reduce size of the set\n",
    "clf =LinearSVC(C=0.01, penalty=\"l1\", dual=False)\n",
    "clf = clf.fit(df_gene_full__FINAL_transpose, a)\n",
    "model = SelectFromModel(clf, prefit=True)\n",
    "X_new = model.transform(df_gene_full__FINAL_transpose)\n",
    "X_new = pd.DataFrame(X_new)\n"
   ]
  },
  {
   "cell_type": "code",
   "execution_count": 46,
   "id": "10f5485b",
   "metadata": {
    "scrolled": false
   },
   "outputs": [],
   "source": [
    "# Machine learning model , via logistic regression, solver lbfgs to save memorhy, and multinomial class and give overall better results than other solvers. Penalty l2 according to solver\n",
    "#Set are splitted with StratifiedKFold to avoid overfitting while keeping balanced set\n",
    "#Possibility to also train the model with cross_validate, and pileine including Features selection\n",
    "acc_score = []\n",
    "\n",
    "kf = StratifiedKFold(n_splits = 5)\n",
    "logreg = LogisticRegression(max_iter = 800,multi_class='multinomial', solver='lbfgs')\n",
    "\n",
    "for train_index, test_index in kf.split(X_new,a):\n",
    "     X_train, X_test = X_new.iloc[train_index], X_new.iloc[test_index]\n",
    "     y_train, y_test = a[train_index], a[test_index]\n",
    "     logreg.fit(X_train, y_train)\n",
    "     y_pred = logreg.predict(X_test)\n",
    "     accuracy_score = logreg.score(X_test, y_test)\n",
    "     acc_score.append(accuracy_score)\n",
    "     coeff_log = logreg.coef_\n",
    "     "
   ]
  },
  {
   "cell_type": "code",
   "execution_count": 47,
   "id": "ac5c9b69",
   "metadata": {
    "scrolled": true
   },
   "outputs": [
    {
     "name": "stdout",
     "output_type": "stream",
     "text": [
      "Accuracy of logistic regression classifier on test set: 0.96\n",
      "[[33  0  0  1  0]\n",
      " [ 0 14  0  2  0]\n",
      " [ 0  0 97  1  1]\n",
      " [ 0  0  1 38  0]\n",
      " [ 0  1  0  0  6]]\n"
     ]
    }
   ],
   "source": [
    "#Model score\n",
    "#Overall accuracy above 85%\n",
    "print('Accuracy of logistic regression classifier on test set: {:.2f}'.format(mean(acc_score)))\n",
    "print(confusion_matrix(y_test, logreg.predict(X_test)))\n"
   ]
  },
  {
   "cell_type": "code",
   "execution_count": 23,
   "id": "7e36eb42",
   "metadata": {},
   "outputs": [
    {
     "name": "stdout",
     "output_type": "stream",
     "text": [
      "0.08558305180505409\n",
      "0.10694279268475453\n",
      "0.13457794099457118\n",
      "0.11967022318294263\n",
      "0.11041303111014934\n"
     ]
    }
   ],
   "source": [
    "# Predicive gene for each class in list_coeff_sup\n",
    "list_coeff_sup = []\n",
    "\n",
    "for inde_coeef in coeff_log :\n",
    "    list_new = []\n",
    "    for indice_weight in range(0, len(inde_coeef)):\n",
    "        if inde_coeef[indice_weight] > 0.030 :\n",
    "            \n",
    "            list_new.append(indice_weight)\n",
    "    list_coeff_sup.append(list_new)\n",
    "print(list_coeff_sup)"
   ]
  },
  {
   "cell_type": "code",
   "execution_count": 30,
   "id": "cf298e08",
   "metadata": {},
   "outputs": [],
   "source": [
    "#Logistic model was chosen from SVM , XGBoost and decision,as more performant for these data. \n",
    "# Deep learning models were discarded as predictive genes more complicated to isolate\n",
    "\n",
    "#Model were test without and with various features selection algorithms were test, but best resuts with LinearSVC\n",
    "#Recursive feature selection can also be tested, but computionally  intensive\n",
    "#SMOTE can also be included to upsample and increase patients with normal and Her2 cancer\n",
    "#Traning should then be done with X_su, y_su\n",
    "#From the model it is clear that the correlation between the subtype and genetic information is quite high\n",
    "#However, for genes with same name but different letter A, B or C, only the A occurences were kept. Other option consists on copying subtype instances for each genes' iteration.\n",
    "\n",
    "\n",
    "\n",
    "# Predictive genes were isolated by isolating coefficient above 0.030\n",
    "#Better gene selection can be done by analysing genes with highest associated weights, and deviation inbetween the weights  for each class\n",
    "\n",
    "\n",
    "#The model could be useful in real life with a larger data set, with more instance of Normal and Her2 subtype for example, covering more variants.\n",
    "#Model also need some adjusting in selecting predictive genes as stated above, to understand how many genes are responsible for the classification, and comparison in between classes. As some might have very similar predictive signature\n",
    "\n",
    "# Futher investigation need to be concluded, comparing predictive genes for each class\n",
    "#and analysing associated protein and their roles.\n",
    "\n",
    "#With more time or resources, I would like to employ Graph convolutional neural networks\n",
    "#Gene does not work individually but as an ensemble, GCNN can learn from already known biological interaction and recognize their patterns. Spatial gene expression can then be retrieved from biopsie, or tissue sample.\n",
    "\n"
   ]
  },
  {
   "cell_type": "code",
   "execution_count": null,
   "id": "0b2556f8",
   "metadata": {},
   "outputs": [],
   "source": []
  }
 ],
 "metadata": {
  "kernelspec": {
   "display_name": "Python 3",
   "language": "python",
   "name": "python3"
  },
  "language_info": {
   "codemirror_mode": {
    "name": "ipython",
    "version": 3
   },
   "file_extension": ".py",
   "mimetype": "text/x-python",
   "name": "python",
   "nbconvert_exporter": "python",
   "pygments_lexer": "ipython3",
   "version": "3.6.1"
  }
 },
 "nbformat": 4,
 "nbformat_minor": 5
}
